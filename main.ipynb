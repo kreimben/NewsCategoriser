{
 "cells": [
  {
   "cell_type": "code",
   "outputs": [],
   "source": [
    "import pandas as pd\n",
    "from gensim.models import Word2Vec\n",
    "from konlpy.tag import *\n",
    "from matplotlib import pyplot as plt\n",
    "from tqdm import tqdm\n",
    "from pyprnt import prnt\n",
    "\n",
    "from utils import STOP_WORDS"
   ],
   "metadata": {
    "collapsed": false,
    "ExecuteTime": {
     "end_time": "2024-01-26T09:10:20.530747Z",
     "start_time": "2024-01-26T09:10:19.823638Z"
    }
   },
   "id": "880d4dd6867f8319",
   "execution_count": 12
  },
  {
   "cell_type": "markdown",
   "source": [
    "# News Categoriser using Machine Learning\n",
    "## Goal: Predict the category using machine learning models (not deep learning).\n",
    "\n",
    "Following the below map,"
   ],
   "metadata": {
    "collapsed": false
   },
   "id": "e9c8eebb1d792d4e"
  },
  {
   "cell_type": "markdown",
   "source": [
    "![](ml_map.png)"
   ],
   "metadata": {
    "collapsed": false
   },
   "id": "82ddd51bd6461c60"
  },
  {
   "cell_type": "markdown",
   "source": [
    "We have more than 50 samples, predicting a category and have a labeled data.\n",
    "With less than 100K samples and it's text data.\n",
    "So, `(Multinomial) Naive Bayes` first.\n",
    "\n",
    "Set random state as a `23` and study about `kfold`, `auroc`, `auprc` and `acc`.\n",
    "\n",
    "## Sub-Goals\n",
    "* Use label encoding\n",
    "* Predict the category using the input strings.\n",
    "* Keyword extraction\n",
    "* Use many different prediction models\n",
    "* Use `word2vec` over `TF-IDF`\n",
    "\n",
    "## 1. Text Pre-processing"
   ],
   "metadata": {
    "collapsed": false
   },
   "id": "95b934a9ae545adf"
  },
  {
   "cell_type": "code",
   "outputs": [],
   "source": [
    "train = pd.read_csv('./datasets/ex_train.csv')\n",
    "test = pd.read_csv('./datasets/ex_test.csv')\n",
    "valid = pd.read_csv('./datasets/ex_validation.csv')"
   ],
   "metadata": {
    "collapsed": false,
    "ExecuteTime": {
     "end_time": "2024-01-26T08:50:00.820901Z",
     "start_time": "2024-01-26T08:49:59.687157Z"
    }
   },
   "id": "b012f8d92a7d129c",
   "execution_count": 2
  },
  {
   "cell_type": "code",
   "outputs": [
    {
     "data": {
      "text/plain": "                      date category  press                             title  \\\n16339  2022-07-06 15:15:13  economy  연합뉴스   게시판 우리은행 개방형 제휴제안 채널 WON 파트너십 오픈   \n\n                                                document  \\\n16339  우리은행 제공. 재판매 및 DB금지 우리은행은 기업이 자유롭게 제휴를 제안할 수 있...   \n\n                                                    link  \\\n16339  https://n.news.naver.com/mnews/article/001/001...   \n\n                                                 summary  \n16339  우리은행은 6일 기업이 홈페이지의 제휴 제안 메뉴에서 상품 서비스 마케팅 비금융 서...  ",
      "text/html": "<div>\n<style scoped>\n    .dataframe tbody tr th:only-of-type {\n        vertical-align: middle;\n    }\n\n    .dataframe tbody tr th {\n        vertical-align: top;\n    }\n\n    .dataframe thead th {\n        text-align: right;\n    }\n</style>\n<table border=\"1\" class=\"dataframe\">\n  <thead>\n    <tr style=\"text-align: right;\">\n      <th></th>\n      <th>date</th>\n      <th>category</th>\n      <th>press</th>\n      <th>title</th>\n      <th>document</th>\n      <th>link</th>\n      <th>summary</th>\n    </tr>\n  </thead>\n  <tbody>\n    <tr>\n      <th>16339</th>\n      <td>2022-07-06 15:15:13</td>\n      <td>economy</td>\n      <td>연합뉴스</td>\n      <td>게시판 우리은행 개방형 제휴제안 채널 WON 파트너십 오픈</td>\n      <td>우리은행 제공. 재판매 및 DB금지 우리은행은 기업이 자유롭게 제휴를 제안할 수 있...</td>\n      <td>https://n.news.naver.com/mnews/article/001/001...</td>\n      <td>우리은행은 6일 기업이 홈페이지의 제휴 제안 메뉴에서 상품 서비스 마케팅 비금융 서...</td>\n    </tr>\n  </tbody>\n</table>\n</div>"
     },
     "execution_count": 3,
     "metadata": {},
     "output_type": "execute_result"
    }
   ],
   "source": [
    "train.sample()"
   ],
   "metadata": {
    "collapsed": false,
    "ExecuteTime": {
     "end_time": "2024-01-26T08:50:00.838074Z",
     "start_time": "2024-01-26T08:50:00.827612Z"
    }
   },
   "id": "630a59924441c750",
   "execution_count": 3
  },
  {
   "cell_type": "code",
   "outputs": [
    {
     "data": {
      "text/plain": "title       0\ndocument    0\nsummary     0\ndtype: int64"
     },
     "execution_count": 4,
     "metadata": {},
     "output_type": "execute_result"
    }
   ],
   "source": [
    "train[['title', 'document', 'summary']].isna().sum()"
   ],
   "metadata": {
    "collapsed": false,
    "ExecuteTime": {
     "end_time": "2024-01-26T08:50:01.408556Z",
     "start_time": "2024-01-26T08:50:01.404363Z"
    }
   },
   "id": "fcb4a161284ae724",
   "execution_count": 4
  },
  {
   "cell_type": "code",
   "outputs": [
    {
     "name": "stdout",
     "output_type": "stream",
     "text": [
      "0        앵커 정부가 올해 하반기 우리 경제의 버팀목인 수출 확대를 위해 총력을 기울이기로 ...\n",
      "1        문어 랍스터 대게 갑오징어 새우 소라 등 해산물 활용 미국식 해물찜 시푸드 보일 준...\n",
      "2        한탄바이러스 발견 노벨상 유력 후보로 자주 거론 한국을 대표하는 의학자이자 미생물학...\n",
      "3        기사내용 요약 우주발사체 사업 본격화 서울 뉴시스 김경택 기자 에디슨이노가 우주발사...\n",
      "4        SK바이오사이언스가 글로벌 사업의 고도화를 위해 조직 개편을 단행했다. SK바이오사...\n",
      "                               ...                        \n",
      "22189    보고서 발간 등 지속가능경영 힘써 대우조선해양 통합보고서. 사진제공 대우조선해양 서...\n",
      "22190    이데일리 김소연 기자 신원종합개발 017000 은 단기 차입금 합계가 198억800...\n",
      "22191    경제 뉴스와 꼭 알아야 할 소식들을 픽 해서 전해드리는 박태원의 픽 첫 번째 키워드...\n",
      "22192    세종시에 위치한 과기정통부 청사. 사진 과기정통부 국내 SaaS 서비스형 소프트웨어...\n",
      "22193    사진 현대차 아이오닉 5 디지털데일리 변재영 기자 현대자동차가 올해 6월 국내 5만...\n",
      "Name: document, Length: 22194, dtype: object\n"
     ]
    },
    {
     "name": "stderr",
     "output_type": "stream",
     "text": [
      "  0%|          | 0/22194 [00:00<?, ?it/s]"
     ]
    },
    {
     "name": "stdout",
     "output_type": "stream",
     "text": [
      "  0%|          | 0/22194 [00:00<?, ?it/s]\n"
     ]
    },
    {
     "name": "stderr",
     "output_type": "stream",
     "text": [
      "100%|██████████| 22194/22194 [09:27<00:00, 39.10it/s]\n"
     ]
    }
   ],
   "source": [
    "okt = Okt()\n",
    "\n",
    "tokenized_data = []\n",
    "prnt(train.document)\n",
    "ready = tqdm(train.document)\n",
    "prnt(ready)\n",
    "for sentence in ready:\n",
    "    tokenized_sentence = okt.morphs(sentence, stem=True)  # 토큰화\n",
    "    stopwords_removed_sentence = [word for word in tokenized_sentence if not word in STOP_WORDS]  # 불용어 제거\n",
    "    tokenized_data.append(stopwords_removed_sentence)"
   ],
   "metadata": {
    "collapsed": false,
    "ExecuteTime": {
     "end_time": "2024-01-26T09:04:46.869500Z",
     "start_time": "2024-01-26T08:55:19.217835Z"
    }
   },
   "id": "75a6a09f099f8b36",
   "execution_count": 10
  },
  {
   "cell_type": "code",
   "outputs": [
    {
     "name": "stdout",
     "output_type": "stream",
     "text": [
      "리뷰의 최대 길이 : 4015\n",
      "리뷰의 평균 길이 : 287.8196359376408\n"
     ]
    },
    {
     "data": {
      "text/plain": "<Figure size 640x480 with 1 Axes>",
      "image/png": "[encoded data removed]"
     },
     "metadata": {},
     "output_type": "display_data"
    }
   ],
   "source": [
    "# 리뷰 길이 분포 확인\n",
    "print('기사의 최대 길이 :', max(len(review) for review in tokenized_data))\n",
    "print('기사의 평균 길이 :', sum(map(len, tokenized_data)) / len(tokenized_data))\n",
    "plt.hist([len(review) for review in tokenized_data], bins=50)\n",
    "plt.xlabel('length of samples')\n",
    "plt.ylabel('number of samples')\n",
    "plt.show()"
   ],
   "metadata": {
    "collapsed": false,
    "ExecuteTime": {
     "end_time": "2024-01-26T09:04:47.007047Z",
     "start_time": "2024-01-26T09:04:46.881269Z"
    }
   },
   "id": "216a738967a2eb53",
   "execution_count": 11
  },
  {
   "cell_type": "code",
   "outputs": [],
   "source": [
    "model = Word2Vec(sentences = tokenized_data, vector_size = 100, window = 5, min_count = 5, workers = 4, sg = 0)"
   ],
   "metadata": {
    "collapsed": false,
    "ExecuteTime": {
     "end_time": "2024-01-26T09:10:36.722085Z",
     "start_time": "2024-01-26T09:10:24.075339Z"
    }
   },
   "id": "8d083db40e613f7d",
   "execution_count": 13
  },
  {
   "cell_type": "code",
   "outputs": [
    {
     "data": {
      "text/plain": "(33423, 100)"
     },
     "execution_count": 14,
     "metadata": {},
     "output_type": "execute_result"
    }
   ],
   "source": [
    "model.wv.vectors.shape"
   ],
   "metadata": {
    "collapsed": false,
    "ExecuteTime": {
     "end_time": "2024-01-26T09:29:17.969793Z",
     "start_time": "2024-01-26T09:29:17.953745Z"
    }
   },
   "id": "114cfabef6149934",
   "execution_count": 14
  },
  {
   "cell_type": "code",
   "outputs": [
    {
     "data": {
      "text/plain": "[('여사', 0.9140968322753906),\n ('번복', 0.7493395805358887),\n ('합참의장', 0.7272157073020935),\n ('파문', 0.7178741693496704),\n ('CCO', 0.7096223831176758),\n ('지피다', 0.7079779505729675),\n ('재송부', 0.7049895524978638),\n ('묘연하다', 0.7046442031860352),\n ('유료도로', 0.7022061347961426),\n ('장제원', 0.6990014910697937)]"
     },
     "execution_count": 16,
     "metadata": {},
     "output_type": "execute_result"
    }
   ],
   "source": [
    "model.wv.most_similar(\"김건희\")"
   ],
   "metadata": {
    "collapsed": false,
    "ExecuteTime": {
     "end_time": "2024-01-26T09:29:35.460071Z",
     "start_time": "2024-01-26T09:29:35.442655Z"
    }
   },
   "id": "3bf1ef49f22cc9bc",
   "execution_count": 16
  },
  {
   "cell_type": "code",
   "outputs": [
    {
     "data": {
      "text/plain": "[('대통령실', 0.6831483244895935),\n ('국회의원', 0.6546517610549927),\n ('이재명', 0.6400635242462158),\n ('인수위', 0.6385417580604553),\n ('시절', 0.6366008520126343),\n ('대도시권', 0.6307417750358582),\n ('권성동', 0.6261577606201172),\n ('최승재', 0.6220310926437378),\n ('이주영', 0.6210716366767883),\n ('친문', 0.619127094745636)]"
     },
     "execution_count": 22,
     "metadata": {},
     "output_type": "execute_result"
    }
   ],
   "source": [
    "model.wv.most_similar(\"청와대\")"
   ],
   "metadata": {
    "collapsed": false,
    "ExecuteTime": {
     "end_time": "2024-01-26T09:30:23.716924Z",
     "start_time": "2024-01-26T09:30:23.641931Z"
    }
   },
   "id": "f00f192e5bc5ce1e",
   "execution_count": 22
  },
  {
   "cell_type": "code",
   "outputs": [],
   "source": [],
   "metadata": {
    "collapsed": false
   },
   "id": "15ed4e20e8582d4d"
  }
 ],
 "metadata": {
  "kernelspec": {
   "display_name": "Python 3",
   "language": "python",
   "name": "python3"
  },
  "language_info": {
   "codemirror_mode": {
    "name": "ipython",
    "version": 2
   },
   "file_extension": ".py",
   "mimetype": "text/x-python",
   "name": "python",
   "nbconvert_exporter": "python",
   "pygments_lexer": "ipython2",
   "version": "2.7.6"
  }
 },
 "nbformat": 4,
 "nbformat_minor": 5
}
